{
 "nbformat": 4,
 "nbformat_minor": 0,
 "metadata": {
  "colab": {
   "name": "forecastingdata python",
   "provenance": [],
   "authorship_tag": "ABX9TyNqE1italaYr5Wv6O7bWayZ",
   "include_colab_link": true
  },
  "kernelspec": {
   "name": "python3",
   "display_name": "Python 3"
  },
  "language_info": {
   "name": "python"
  }
 },
 "cells": [
  {
   "cell_type": "markdown",
   "metadata": {
    "id": "view-in-github",
    "colab_type": "text"
   },
   "source": [
    "<a href=\"https://colab.research.google.com/github/pmontman/TSForecasting/blob/master/experiments/forecastingdata_python.ipynb\" target=\"_parent\"><img src=\"https://colab.research.google.com/assets/colab-badge.svg\" alt=\"Open In Colab\"/></a>"
   ]
  },
  {
   "cell_type": "markdown",
   "metadata": {
    "id": "R4AUfZ_qqYcQ"
   },
   "source": [
    "## Notebook for accessing Forecastingdata forecasting and feature extraction tools using python\n",
    "\n",
    "in Forecastingdata, some forecasting and feature calculation tools are implemented in R, but we can access them *transparently* from python using the awesome rpy2 package.\n",
    "This notebook shows an example for it.\n",
    "\n",
    "\n",
    "It has two parts. Part 1 is the preparation of the environment so everything\n",
    "runs directly on python. Part2 is an example of how to use the tools directly from python."
   ]
  },
  {
   "cell_type": "markdown",
   "metadata": {
    "id": "KnPXANAz-H1X"
   },
   "source": [
    "## Part 1) Preparation of the environment"
   ]
  },
  {
   "cell_type": "markdown",
   "metadata": {
    "id": "WW8eLpvc6mRW"
   },
   "source": [
    "We load the R extension for jupyter, which interacts nicely with python"
   ]
  },
  {
   "cell_type": "code",
   "metadata": {
    "id": "PApAXyc6r6SV",
    "ExecuteTime": {
     "end_time": "2025-05-24T07:24:53.180183Z",
     "start_time": "2025-05-24T07:24:50.743049Z"
    }
   },
   "source": [
    "#@title\n",
    "%load_ext rpy2.ipython"
   ],
   "outputs": [],
   "execution_count": 1
  },
  {
   "cell_type": "markdown",
   "metadata": {
    "id": "9vSYen5A6wAl"
   },
   "source": [
    "Clone the repository, for reproducibility. No need to clone everytime if you have already have the folder!."
   ]
  },
  {
   "cell_type": "code",
   "metadata": {
    "colab": {
     "base_uri": "https://localhost:8080/"
    },
    "id": "0cFcT8wkqXke",
    "outputId": "a01c9d35-f51b-4523-c848-e520ae9cca54"
   },
   "source": [
    "!git clone https://github.com/pmontman/TSForecasting"
   ],
   "execution_count": 2,
   "outputs": [
    {
     "output_type": "stream",
     "text": [
      "fatal: destination path 'TSForecasting' already exists and is not an empty directory.\n"
     ],
     "name": "stdout"
    }
   ]
  },
  {
   "cell_type": "code",
   "metadata": {
    "id": "6f9OMDftcwvd",
    "outputId": "41eebd10-3e21-472d-bd51-f1dd87c67860",
    "colab": {
     "base_uri": "https://localhost:8080/"
    },
    "ExecuteTime": {
     "end_time": "2025-05-24T07:25:10.318142Z",
     "start_time": "2025-05-24T07:25:06.371393Z"
    }
   },
   "source": [
    "%cd TSForecasting/\n",
    "!git pull\n",
    "%cd .."
   ],
   "outputs": [
    {
     "name": "stdout",
     "output_type": "stream",
     "text": [
      "[Errno 2] No such file or directory: 'TSForecasting/'\n",
      "/Users/bangbui/workspace/datasets/TSForecasting/experiments\n",
      "Already up to date.\r\n",
      "/Users/bangbui/workspace/datasets/TSForecasting\n"
     ]
    }
   ],
   "execution_count": 2
  },
  {
   "cell_type": "markdown",
   "metadata": {
    "id": "NBgeddI662U1"
   },
   "source": [
    "We now prepare the R environment for processing: installing and loading the required packages"
   ]
  },
  {
   "cell_type": "code",
   "metadata": {
    "colab": {
     "base_uri": "https://localhost:8080/"
    },
    "id": "-_ONfdCbrnvR",
    "outputId": "3c619547-e980-4c8c-9172-e05022c41ef4",
    "ExecuteTime": {
     "end_time": "2025-05-24T07:25:45.654371Z",
     "start_time": "2025-05-24T07:25:26.665789Z"
    }
   },
   "source": [
    "%%R\n",
    "install.packages(\"devtools\")\n",
    "devtools::install_github(\"hendersontrent/Rcatch22\")"
   ],
   "outputs": [
    {
     "name": "stdout",
     "output_type": "stream",
     "text": [
      "--- Please select a CRAN mirror for use in this session ---\n",
      "Secure CRAN mirrors \n",
      "\n",
      " 1: 0-Cloud [https]\n",
      " 2: Australia (Canberra) [https]\n",
      " 3: Australia (Melbourne 1) [https]\n",
      " 4: Australia (Melbourne 2) [https]\n",
      " 5: Austria (Wien 1) [https]\n",
      " 6: Belgium (Brussels) [https]\n",
      " 7: Brazil (PR) [https]\n",
      " 8: Brazil (SP 1) [https]\n",
      " 9: Brazil (SP 2) [https]\n",
      "10: Bulgaria [https]\n",
      "11: Canada (MB) [https]\n",
      "12: Canada (ON 1) [https]\n",
      "13: Canada (ON 2) [https]\n",
      "14: Chile (Santiago) [https]\n",
      "15: China (Beijing 1) [https]\n",
      "16: China (Beijing 2) [https]\n",
      "17: China (Beijing 3) [https]\n",
      "18: China (Hefei) [https]\n",
      "19: China (Hong Kong) [https]\n",
      "20: China (Jinan) [https]\n",
      "21: China (Lanzhou) [https]\n",
      "22: China (Nanjing) [https]\n",
      "23: China (Shanghai 2) [https]\n",
      "24: China (Shenzhen) [https]\n",
      "25: China (Wuhan) [https]\n",
      "26: Colombia (Cali) [https]\n",
      "27: Cyprus [https]\n",
      "28: Czech Republic [https]\n",
      "29: Denmark [https]\n",
      "30: East Asia [https]\n",
      "31: Ecuador (Cuenca) [https]\n",
      "32: Finland (Helsinki) [https]\n",
      "33: France (Lyon 1) [https]\n",
      "34: France (Lyon 2) [https]\n",
      "35: France (Paris 1) [https]\n",
      "36: Germany (Erlangen) [https]\n",
      "37: Germany (Göttingen) [https]\n",
      "38: Germany (Leipzig) [https]\n",
      "39: Germany (Münster) [https]\n",
      "40: Greece [https]\n",
      "41: Hungary [https]\n",
      "42: Iceland [https]\n",
      "43: India (Bengaluru) [https]\n",
      "44: India (Bhubaneswar) [https]\n",
      "45: Indonesia (Banda Aceh) [https]\n",
      "46: Iran (Mashhad) [https]\n",
      "47: Italy (Milano) [https]\n",
      "48: Italy (Padua) [https]\n",
      "49: Japan (Yonezawa) [https]\n",
      "50: Korea (Gyeongsan-si) [https]\n",
      "51: Mexico (Mexico City) [https]\n",
      "52: Mexico (Texcoco) [https]\n",
      "53: Morocco [https]\n",
      "54: Netherlands (Dronten) [https]\n",
      "55: New Zealand [https]\n",
      "56: Norway [https]\n",
      "57: Poland [https]\n",
      "58: South Africa (Johannesburg) [https]\n",
      "59: Spain (A Coruña) [https]\n",
      "60: Spain (Madrid) [https]\n",
      "61: Sweden (Umeå) [https]\n",
      "62: Switzerland (Zurich 1) [https]\n",
      "63: Taiwan (Taipei) [https]\n",
      "64: Turkey (Denizli) [https]\n",
      "65: UK (Bristol) [https]\n",
      "66: UK (London 1) [https]\n",
      "67: USA (IA) [https]\n",
      "68: USA (MI) [https]\n",
      "69: USA (MO) [https]\n",
      "70: USA (OH) [https]\n",
      "71: USA (OR) [https]\n",
      "72: USA (PA 1) [https]\n",
      "73: USA (TN) [https]\n",
      "74: USA (UT) [https]\n",
      "75: United Arab Emirates [https]\n",
      "76: Uruguay [https]\n",
      "77: (other mirrors)\n",
      "\n"
     ]
    },
    {
     "name": "stderr",
     "output_type": "stream",
     "text": [
      "* installing *source* package ‘devtools’ ...\n",
      "** package ‘devtools’ successfully unpacked and MD5 sums checked\n",
      "** using staged installation\n",
      "** R\n",
      "** inst\n",
      "** byte-compile and prepare package for lazy loading\n",
      "** help\n",
      "*** installing help indices\n",
      "*** copying figures\n",
      "** building package indices\n",
      "** installing vignettes\n",
      "** testing if installed package can be loaded from temporary location\n",
      "** testing if installed package can be loaded from final location\n",
      "** testing if installed package keeps a record of temporary installation path\n",
      "* DONE (devtools)\n"
     ]
    },
    {
     "data": {
      "text/plain": [
       "trying URL 'https://cloud.r-project.org/src/contrib/devtools_2.4.5.tar.gz'\n",
       "Content type 'application/x-gzip' length 374718 bytes (365 KB)\n",
       "==================================================\n",
       "downloaded 365 KB\n",
       "\n",
       "\n",
       "The downloaded source packages are in\n",
       "\t‘/private/var/folders/8t/s_hwlxc15gq4m9yjdb6__4cm0000gn/T/RtmpTovusc/downloaded_packages’\n",
       "Updating HTML index of packages in '.Library'\n",
       "Making 'packages.html' ... done\n",
       "Skipping install of 'Rcatch22' from a github remote, the SHA1 (f7bea04d) has not changed since last install.\n",
       "  Use `force = TRUE` to force installation\n"
      ]
     },
     "metadata": {},
     "output_type": "display_data"
    }
   ],
   "execution_count": 3
  },
  {
   "metadata": {
    "ExecuteTime": {
     "end_time": "2025-05-24T07:26:39.061431Z",
     "start_time": "2025-05-24T07:26:32.910622Z"
    }
   },
   "cell_type": "code",
   "source": [
    "%%R\n",
    "install.packages(\"tidyverse\")\n"
   ],
   "outputs": [
    {
     "name": "stderr",
     "output_type": "stream",
     "text": [
      "ERROR: failed to lock directory ‘/Users/bangbui/anaconda3/envs/tsforecast/lib/R/library’ for modifying\n",
      "Try removing ‘/Users/bangbui/anaconda3/envs/tsforecast/lib/R/library/00LOCK-isoband’\n",
      "ERROR: dependency ‘Matrix’ is not available for package ‘mgcv’\n",
      "* removing ‘/Users/bangbui/anaconda3/envs/tsforecast/lib/R/library/mgcv’\n",
      "ERROR: dependencies ‘isoband’, ‘MASS’, ‘mgcv’ are not available for package ‘ggplot2’\n",
      "* removing ‘/Users/bangbui/anaconda3/envs/tsforecast/lib/R/library/ggplot2’\n",
      "ERROR: dependency ‘ggplot2’ is not available for package ‘tidyverse’\n",
      "* removing ‘/Users/bangbui/anaconda3/envs/tsforecast/lib/R/library/tidyverse’\n"
     ]
    },
    {
     "data": {
      "text/plain": [
       "Warning: dependencies ‘MASS’, ‘Matrix’ are not available\n",
       "also installing the dependencies ‘isoband’, ‘mgcv’, ‘ggplot2’\n",
       "\n",
       "trying URL 'https://cloud.r-project.org/src/contrib/isoband_0.2.7.tar.gz'\n",
       "Content type 'application/x-gzip' length 1591812 bytes (1.5 MB)\n",
       "==================================================\n",
       "downloaded 1.5 MB\n",
       "\n",
       "trying URL 'https://cloud.r-project.org/src/contrib/mgcv_1.9-3.tar.gz'\n",
       "Content type 'application/x-gzip' length 1127049 bytes (1.1 MB)\n",
       "==================================================\n",
       "downloaded 1.1 MB\n",
       "\n",
       "trying URL 'https://cloud.r-project.org/src/contrib/ggplot2_3.5.2.tar.gz'\n",
       "Content type 'application/x-gzip' length 3580451 bytes (3.4 MB)\n",
       "==================================================\n",
       "downloaded 3.4 MB\n",
       "\n",
       "trying URL 'https://cloud.r-project.org/src/contrib/tidyverse_2.0.0.tar.gz'\n",
       "Content type 'application/x-gzip' length 704618 bytes (688 KB)\n",
       "==================================================\n",
       "downloaded 688 KB\n",
       "\n",
       "\n",
       "The downloaded source packages are in\n",
       "\t‘/private/var/folders/8t/s_hwlxc15gq4m9yjdb6__4cm0000gn/T/RtmpTovusc/downloaded_packages’\n",
       "Updating HTML index of packages in '.Library'\n",
       "Making 'packages.html' ... done\n",
       "In addition: Warning messages:\n",
       "1: In install.packages(\"tidyverse\") :\n",
       "  installation of package ‘isoband’ had non-zero exit status\n",
       "2: In install.packages(\"tidyverse\") :\n",
       "  installation of package ‘mgcv’ had non-zero exit status\n",
       "3: In install.packages(\"tidyverse\") :\n",
       "  installation of package ‘ggplot2’ had non-zero exit status\n",
       "4: In install.packages(\"tidyverse\") :\n",
       "  installation of package ‘tidyverse’ had non-zero exit status\n"
      ]
     },
     "metadata": {},
     "output_type": "display_data"
    }
   ],
   "execution_count": 4
  },
  {
   "metadata": {
    "jupyter": {
     "is_executing": true
    },
    "ExecuteTime": {
     "start_time": "2025-05-24T07:26:48.337719Z"
    }
   },
   "cell_type": "code",
   "source": [
    "%%R\n",
    "install.packages(\"tsibble\")\n",
    "install.packages(\"forecast\")\n",
    "install.packages(\"tsfeatures\")\n",
    "install.packages(\"smooth\")\n",
    "library(\"Rcatch22\")"
   ],
   "outputs": [],
   "execution_count": null
  },
  {
   "cell_type": "markdown",
   "metadata": {
    "id": "3EQg7sgb2RDP"
   },
   "source": [
    "Install glmnet package for linear models"
   ]
  },
  {
   "cell_type": "code",
   "metadata": {
    "colab": {
     "base_uri": "https://localhost:8080/"
    },
    "id": "TI6nV8XQ0coC",
    "outputId": "1756247f-1a5c-4cf3-8932-6edd6ca2122b"
   },
   "source": [
    "%%R\n",
    "install.packages('glmnet')"
   ],
   "execution_count": 4,
   "outputs": [
    {
     "output_type": "stream",
     "text": [
      "R[write to console]: Installing package into ‘/usr/local/lib/R/site-library’\n",
      "(as ‘lib’ is unspecified)\n",
      "\n",
      "R[write to console]: trying URL 'https://cran.rstudio.com/src/contrib/glmnet_4.1-2.tar.gz'\n",
      "\n",
      "R[write to console]: Content type 'application/x-gzip'\n",
      "R[write to console]:  length 2184440 bytes (2.1 MB)\n",
      "\n",
      "R[write to console]: =\n",
      "R[write to console]: =\n",
      "R[write to console]: =\n",
      "R[write to console]: =\n",
      "R[write to console]: =\n",
      "R[write to console]: =\n",
      "R[write to console]: =\n",
      "R[write to console]: =\n",
      "R[write to console]: =\n",
      "R[write to console]: =\n",
      "R[write to console]: =\n",
      "R[write to console]: =\n",
      "R[write to console]: =\n",
      "R[write to console]: =\n",
      "R[write to console]: =\n",
      "R[write to console]: =\n",
      "R[write to console]: =\n",
      "R[write to console]: =\n",
      "R[write to console]: =\n",
      "R[write to console]: =\n",
      "R[write to console]: =\n",
      "R[write to console]: =\n",
      "R[write to console]: =\n",
      "R[write to console]: =\n",
      "R[write to console]: =\n",
      "R[write to console]: =\n",
      "R[write to console]: =\n",
      "R[write to console]: =\n",
      "R[write to console]: =\n",
      "R[write to console]: =\n",
      "R[write to console]: =\n",
      "R[write to console]: =\n",
      "R[write to console]: =\n",
      "R[write to console]: =\n",
      "R[write to console]: =\n",
      "R[write to console]: =\n",
      "R[write to console]: =\n",
      "R[write to console]: =\n",
      "R[write to console]: =\n",
      "R[write to console]: =\n",
      "R[write to console]: =\n",
      "R[write to console]: =\n",
      "R[write to console]: =\n",
      "R[write to console]: =\n",
      "R[write to console]: =\n",
      "R[write to console]: =\n",
      "R[write to console]: =\n",
      "R[write to console]: =\n",
      "R[write to console]: =\n",
      "R[write to console]: =\n",
      "R[write to console]: \n",
      "\n",
      "R[write to console]: downloaded 2.1 MB\n",
      "\n",
      "\n",
      "R[write to console]: \n",
      "\n",
      "R[write to console]: \n",
      "R[write to console]: The downloaded source packages are in\n",
      "\t‘/tmp/RtmpVH3HnI/downloaded_packages’\n",
      "R[write to console]: \n",
      "R[write to console]: \n",
      "\n"
     ],
     "name": "stderr"
    }
   ]
  },
  {
   "cell_type": "code",
   "metadata": {
    "id": "KxvkzalscnSw",
    "outputId": "ee61459b-19dd-4ffe-81af-b16f27118f9f",
    "colab": {
     "base_uri": "https://localhost:8080/"
    }
   },
   "source": [
    "! ls TSForecasting/experiments"
   ],
   "execution_count": 8,
   "outputs": [
    {
     "output_type": "stream",
     "text": [
      "deep_learning_experiments.py  fixed_horizon.R\t\t    rolling_origin.R\n",
      "feature_experiments.R\t      forecastingdata_python.ipynb\n"
     ],
     "name": "stdout"
    }
   ]
  },
  {
   "cell_type": "code",
   "metadata": {
    "id": "NaOu2KJgmac-"
   },
   "source": [
    "%%R\n",
    "BASE_DIR <- \"TSForecasting\"\n",
    "source(\"TSForecasting/experiments/feature_functions.R\")"
   ],
   "execution_count": 11,
   "outputs": []
  },
  {
   "cell_type": "markdown",
   "metadata": {
    "id": "jSe_MTIUCsPv"
   },
   "source": [
    "The fixed horizon we need to try line by line to skip errors"
   ]
  },
  {
   "cell_type": "code",
   "metadata": {
    "colab": {
     "base_uri": "https://localhost:8080/"
    },
    "id": "vwCaUyXsyeEw",
    "outputId": "d2e390d9-ed21-4e96-b883-2155fef21c9c"
   },
   "source": [
    "%%R\n",
    "source(\"TSForecasting/experiments/fixed_horizon_functions.R\")"
   ],
   "execution_count": 13,
   "outputs": [
    {
     "output_type": "stream",
     "text": [
      "R[write to console]: Loading required package: greybox\n",
      "\n",
      "R[write to console]: Package \"greybox\", v1.0.0 loaded.\n",
      "\n",
      "\n",
      "R[write to console]: \n",
      "Attaching package: ‘greybox’\n",
      "\n",
      "\n",
      "R[write to console]: The following object is masked from ‘package:tidyr’:\n",
      "\n",
      "    spread\n",
      "\n",
      "\n",
      "R[write to console]: This is package \"smooth\", v3.1.2\n",
      "\n",
      "\n",
      "R[write to console]: Loading required package: Matrix\n",
      "\n",
      "R[write to console]: \n",
      "Attaching package: ‘Matrix’\n",
      "\n",
      "\n",
      "R[write to console]: The following objects are masked from ‘package:tidyr’:\n",
      "\n",
      "    expand, pack, unpack\n",
      "\n",
      "\n",
      "R[write to console]: Loaded glmnet 4.1-2\n",
      "\n"
     ],
     "name": "stderr"
    }
   ]
  },
  {
   "cell_type": "markdown",
   "metadata": {
    "id": "DRGajjI4zFaY"
   },
   "source": [
    "## Part 2) Using tools directly on Python"
   ]
  },
  {
   "cell_type": "markdown",
   "metadata": {
    "id": "TXtt5JaX3lkL"
   },
   "source": [
    "Load the function into python environment through rpy2 so\n",
    "it can be later accessed directly from python code"
   ]
  },
  {
   "cell_type": "code",
   "metadata": {
    "id": "JgEtQkSszEZq"
   },
   "source": [
    "import rpy2.robjects as robjects\n",
    "calculate_features = robjects.r['calculate_features']\n",
    "do_fixed_horizon_local_forecasting = robjects.r['do_fixed_horizon_local_forecasting']\n",
    "do_fixed_horizon_global_forecasting = robjects.r['do_fixed_horizon_global_forecasting']"
   ],
   "execution_count": 14,
   "outputs": []
  },
  {
   "cell_type": "markdown",
   "metadata": {
    "id": "x9_Z_fov31G5"
   },
   "source": [
    "\n",
    "we can now call `calculate_features` directly from python, here we have two examples using both the 'tsfeatures' and the 'catch22' features.\n",
    "We will first remove the files just in case"
   ]
  },
  {
   "cell_type": "markdown",
   "metadata": {
    "id": "4vTrBGvC5RbD"
   },
   "source": [
    "Compute the features, we capture the stdout output to remove the verbosiness  of the progress report"
   ]
  },
  {
   "cell_type": "code",
   "metadata": {
    "id": "2dUeI4eK3gdl",
    "colab": {
     "base_uri": "https://localhost:8080/"
    },
    "outputId": "112f0972-18ea-42d9-8689-614470c2929a"
   },
   "source": [
    "%%capture cap --no-stderr\n",
    "calculate_features(\"sample\", \"sample.tsf\", \"series_name\", \"start_timestamp\", \"tsfeatures\")\n",
    "calculate_features(\"sample\", \"sample.tsf\", \"series_name\", \"start_timestamp\", \"catch22\")"
   ],
   "execution_count": 15,
   "outputs": [
    {
     "output_type": "stream",
     "text": [
      "R[write to console]: Registered S3 method overwritten by 'quantmod':\n",
      "  method            from\n",
      "  as.zoo.data.frame zoo \n",
      "\n"
     ],
     "name": "stderr"
    }
   ]
  },
  {
   "cell_type": "markdown",
   "metadata": {
    "id": "b9kj6-716Kr_"
   },
   "source": [
    "The functions write the outputs to .csv files in the project directory\n",
    "structure. We can quickly check if the experiments runs OK, we should see some features in the following files."
   ]
  },
  {
   "cell_type": "code",
   "metadata": {
    "colab": {
     "base_uri": "https://localhost:8080/"
    },
    "id": "9bQeEs0h4GEp",
    "outputId": "e736caac-8587-44b8-de80-9c6b21517dc2"
   },
   "source": [
    "!echo \"head of the tsfeatures features\"\n",
    "!ls -r TSForecasting/results/tsfeatures\n",
    "!head -5 TSForecasting/results/tsfeatures/sample_features.csv\n",
    "!echo \"head of the catch22 features\"\n",
    "!ls -r TSForecasting/results/catch22_features\n",
    "!head -5 TSForecasting/results/catch22_features/sample_features.csv"
   ],
   "execution_count": 16,
   "outputs": [
    {
     "output_type": "stream",
     "text": [
      "head of the tsfeatures features\n",
      "sample_features.csv\n",
      "mean,var,max_kl_shift,time_kl_shift,max_level_shift,time_level_shift,max_var_shift,time_var_shift,x_acf1,x_acf10,diff1_acf1,diff1_acf10,diff2_acf1,diff2_acf10,seas_acf1,ARCH.LM,crossing_points,entropy,flat_spots,alpha,beta,hurst,lumpiness,nonlinearity,x_pacf5,diff1x_pacf5,diff2x_pacf5,seas_pacf,stability,unitroot_kpss,unitroot_pp,nperiods,seasonal_period,trend,spike,linearity,curvature,e_acf1,e_acf10,seasonal_strength,peak,trough\n",
      "105.652455128205,669.530932765715,1.2706668176004,52,0.755290510889679,2,0.959745807190754,2,0.710805797539225,1.51175743379058,-0.239716429411997,0.105249143633781,-0.539721534779089,0.372057773793558,-0.0890329975757608,0.257725362872141,22,0.795329846811295,14,0.628482857552452,0.000100053599224661,0.989518146632079,0.254142008742879,0.315470866286382,0.530751963124808,0.104820622256713,0.656220390192105,0.0363289043636947,0.160377933409522,0.459213533792908,-39.7197694054302,1,52,0.233768779821994,0.000210422925345378,-5.55942899540133,2.39533214964631,0.591233537304447,0.765941121065096,0.109449035559166,25,48\n",
      "49.7716987179487,772.610781811869,0.839629236664901,66,0.839749609933305,28,0.997495073243511,41,0.677047428082113,2.186670634546,-0.489521359095838,0.327637852576462,-0.684495308361765,0.603668301365998,0.366006423407402,0.342277693416532,30,0.770663441884257,11,0.366867233704766,0.119105005852994,0.975089820778829,0.209917426456151,0.915497818501917,0.652095184148211,0.304134190934737,0.952258917608722,-0.00458595761490728,0.156284193523684,0.746810454312143,-47.149028184773,1,52,0.240439965989366,4.32928740622952e-05,-2.29939710763147,-0.369476428328059,0.163023449155823,0.21881514434711,0.605618284900375,22,43\n",
      "68.8986987179487,354.065404753805,0.245474662440756,100,0.231017058816346,52,0.732010073283104,36,0.396776207736518,0.391441348259653,-0.433065943928756,0.245123265605131,-0.672527446081209,0.596366209338853,0.146158778832924,0.339082663016505,58,0.949027876416186,9,0.428997025937022,0.000109707531787864,0.851506460331287,0.00885327534128335,0.214076562310528,0.209705952358398,0.228482900053984,0.731588865958594,-0.0131399564747449,0.00472027043580687,0.0523753827880552,-103.559705800157,1,52,0,0.000170136022446882,-0.517424624005386,-0.818970135635544,0.262896487857182,0.122365708821902,0.310130382597552,19,15\n",
      "67.9277564102564,972.603663346733,4.01423644705766,52,0.489877028965437,54,1.6271986497032,54,0.853866796051072,2.18918769377603,-0.0839302466200159,0.0926306645590518,-0.52544023281588,0.370262782991694,0.0281208018286578,0.71711510583483,31,0.698693098843229,11,0.917283840642122,0.000100001377192751,0.997428334361024,0.668062769529442,0.419709548573525,0.784249433161125,0.0474676933315618,0.495128178635405,-0.00236501574109339,0.0603819527400835,0.274663415148857,-17.9201066910306,1,52,0.064193788264628,0.000197908691284746,0.812279859264317,6.27474073105837,0.847667940884775,1.72461797340037,0.0177219837741033,10,38\n",
      "head of the catch22 features\n",
      "sample_features.csv\n",
      "DN_HistogramMode_5,DN_HistogramMode_10,CO_f1ecac,CO_FirstMin_ac,CO_HistogramAMI_even_2_5,CO_trev_1_num,MD_hrv_classic_pnn40,SB_BinaryStats_mean_longstretch1,SB_TransitionMatrix_3ac_sumdiagcov,PD_PeriodicityWang_th0_01,CO_Embed2_Dist_tau_d_expfit_meandiff,IN_AutoMutualInfoStats_40_gaussian_fmmi,FC_LocalSimple_mean1_tauresrat,DN_OutlierInclude_p_001_mdrmd,DN_OutlierInclude_n_001_mdrmd,SP_Summaries_welch_rect_area_5_1,SB_BinaryStats_diff_longstretch0,SB_MotifThree_quantile_hh,SC_FluctAnal_2_rsrangefit_50_1_logi_prop_r1,SC_FluctAnal_2_dfa_50_1_2_logi_prop_r1,SP_Summaries_welch_rect_centroid,FC_LocalSimple_mean3_stderr\n",
      "-0.922043763754861,-0.576248683034993,5,15,0.315664751812052,-0.10536831576551,0.935483870967742,19,0.0115740740740741,44,0.147307635300968,11,0.0833333333333333,-0.467948717948718,-0.153846153846154,0.710854613926757,6,1.87169409529269,0.725,0.8,0.196349540849375,0.696265012352172\n",
      "-0.61295776629442,-0.843315670994809,7,10,0.271937269772718,0.00916674396990751,0.909677419354839,17,0.0137741046831956,42,0.163339260691723,9,0.0769230769230769,-0.307692307692308,0.455128205128205,0.749104475100392,5,1.81070352550543,0.8,0.25,0.147262155637031,0.657925671941043\n",
      "-0.167941838208256,-0.450649273092616,2,6,0.132706910533565,-0.00144520190911497,0.961290322580645,8,0.0072840790842872,25,0.0878837356097735,4,0.2,0.262820512820513,0.211538461538461,0.511183134323912,5,2.1735921600141,0.85,0.7,0.564504929941953,0.94542958313992\n",
      "-0.545184775634607,-0.273351630872469,5,16,0.461434673106742,0.169470868256624,0.825806451612903,27,0.0185185185185185,0,0.328443708359191,11,0.0833333333333333,0.871794871794872,-0.743589743589744,0.843873114604168,6,1.80068917684451,0.325,0.85,0.171805848243203,0.562350705644476\n"
     ],
     "name": "stdout"
    }
   ]
  },
  {
   "cell_type": "markdown",
   "metadata": {
    "id": "JdZePDYeTxmk"
   },
   "source": [
    "Compute the local forecasts."
   ]
  },
  {
   "cell_type": "code",
   "metadata": {
    "colab": {
     "base_uri": "https://localhost:8080/"
    },
    "id": "X938OpXZTx49",
    "outputId": "a679a45c-e8e5-4e0c-f4b6-0f43c07b90a2"
   },
   "source": [
    "do_fixed_horizon_local_forecasting(\"sample\", \"ses\", \"sample.tsf\", \"series_name\", \"start_timestamp\", 8)"
   ],
   "execution_count": 17,
   "outputs": [
    {
     "output_type": "stream",
     "text": [
      "[1] \"Started loading sample\"\n",
      "[1] \"started Forecasting\"\n",
      "[1] 1\n",
      "[1] 2\n",
      "[1] 3\n",
      "[1] 4\n",
      "[1] 5\n",
      "[1] 6\n",
      "[1] 7\n",
      "[1] 8\n",
      "[1] 9\n",
      "[1] 10\n",
      "[1] 11\n",
      "[1] 12\n",
      "[1] 13\n",
      "[1] 14\n",
      "[1] 15\n",
      "[1] 16\n",
      "[1] 17\n",
      "[1] 18\n",
      "[1] 19\n",
      "[1] 20\n",
      "[1] 21\n",
      "[1] 22\n",
      "[1] 23\n",
      "[1] 24\n",
      "[1] 25\n",
      "[1] 26\n",
      "[1] 27\n",
      "[1] 28\n",
      "[1] 29\n",
      "[1] 30\n",
      "[1] 31\n",
      "[1] 32\n",
      "[1] 33\n",
      "[1] 34\n",
      "[1] 35\n",
      "[1] 36\n",
      "[1] 37\n",
      "[1] 38\n",
      "[1] 39\n",
      "[1] 40\n",
      "[1] 41\n",
      "[1] 42\n",
      "[1] 43\n",
      "[1] 44\n",
      "[1] 45\n",
      "[1] 46\n",
      "[1] 47\n",
      "[1] 48\n",
      "[1] 49\n",
      "[1] 50\n",
      "[1] 51\n",
      "[1] 52\n",
      "[1] 53\n",
      "[1] 54\n",
      "[1] 55\n",
      "[1] 56\n",
      "[1] 57\n",
      "[1] 58\n",
      "[1] 59\n",
      "[1] 60\n",
      "[1] 61\n",
      "[1] 62\n",
      "[1] 63\n",
      "[1] 64\n",
      "[1] 65\n",
      "[1] 66\n",
      "[1] 67\n",
      "[1] 68\n",
      "[1] 69\n",
      "[1] 70\n",
      "[1] 71\n",
      "[1] 72\n",
      "[1] 73\n",
      "[1] 74\n",
      "[1] 75\n",
      "[1] 76\n",
      "[1] 77\n",
      "[1] 78\n",
      "[1] 79\n",
      "[1] 80\n",
      "[1] 81\n",
      "[1] 82\n",
      "[1] 83\n",
      "[1] 84\n",
      "[1] 85\n",
      "[1] 86\n",
      "[1] 87\n",
      "[1] 88\n",
      "[1] 89\n",
      "[1] 90\n",
      "[1] 91\n",
      "[1] 92\n",
      "[1] 93\n",
      "[1] 94\n",
      "[1] 95\n",
      "[1] 96\n",
      "[1] 97\n",
      "[1] 98\n",
      "[1] 99\n",
      "[1] 100\n",
      "[1] 101\n",
      "[1] 102\n",
      "[1] 103\n",
      "[1] 104\n",
      "[1] 105\n",
      "[1] 106\n",
      "[1] 107\n",
      "[1] 108\n",
      "[1] 109\n",
      "[1] 110\n",
      "[1] 111\n",
      "[1] 112\n",
      "[1] 113\n",
      "[1] 114\n",
      "[1] 115\n",
      "[1] 116\n",
      "[1] 117\n",
      "[1] 118\n",
      "[1] 119\n",
      "[1] 120\n",
      "[1] 121\n",
      "[1] 122\n",
      "[1] 123\n",
      "[1] 124\n",
      "[1] 125\n",
      "[1] 126\n",
      "[1] 127\n",
      "[1] 128\n",
      "[1] 129\n",
      "[1] 130\n",
      "[1] 131\n",
      "[1] 132\n",
      "[1] 133\n",
      "[1] 134\n",
      "[1] 135\n",
      "[1] 136\n",
      "[1] 137\n",
      "[1] 138\n",
      "[1] 139\n",
      "[1] 140\n",
      "[1] 141\n",
      "[1] 142\n",
      "[1] 143\n",
      "[1] 144\n",
      "[1] 145\n",
      "[1] 146\n",
      "[1] 147\n",
      "[1] 148\n",
      "[1] 149\n",
      "[1] 150\n",
      "[1] 151\n",
      "[1] 152\n",
      "[1] 153\n",
      "[1] 154\n",
      "[1] 155\n",
      "[1] 156\n",
      "[1] 157\n",
      "[1] 158\n",
      "[1] 159\n",
      "[1] 160\n",
      "[1] 161\n",
      "[1] 162\n",
      "[1] 163\n",
      "[1] 164\n",
      "[1] 165\n",
      "[1] 166\n",
      "[1] 167\n",
      "[1] 168\n",
      "[1] 169\n",
      "[1] 170\n",
      "[1] 171\n",
      "[1] 172\n",
      "[1] 173\n",
      "[1] 174\n",
      "[1] 175\n",
      "[1] 176\n",
      "[1] 177\n",
      "[1] 178\n",
      "[1] 179\n",
      "[1] 180\n",
      "[1] 181\n",
      "[1] 182\n",
      "[1] 183\n",
      "[1] 184\n",
      "[1] 185\n",
      "[1] 186\n",
      "[1] 187\n",
      "[1] 188\n",
      "[1] 189\n",
      "[1] 190\n",
      "[1] 191\n",
      "[1] 192\n",
      "[1] 193\n",
      "[1] 194\n",
      "[1] 195\n",
      "[1] 196\n",
      "[1] 197\n",
      "[1] 198\n",
      "[1] 199\n",
      "[1] 200\n",
      "[1] 201\n",
      "[1] 202\n",
      "[1] 203\n",
      "[1] 204\n",
      "[1] 205\n",
      "[1] 206\n",
      "[1] 207\n",
      "[1] 208\n",
      "[1] 209\n",
      "[1] 210\n",
      "[1] 211\n",
      "[1] 212\n",
      "[1] 213\n",
      "[1] 214\n",
      "[1] 215\n",
      "[1] 216\n",
      "[1] 217\n",
      "[1] 218\n",
      "[1] 219\n",
      "[1] 220\n",
      "[1] 221\n",
      "[1] 222\n",
      "[1] 223\n",
      "[1] 224\n",
      "[1] 225\n",
      "[1] 226\n",
      "[1] 227\n",
      "[1] 228\n",
      "[1] 229\n",
      "[1] 230\n",
      "[1] 231\n",
      "[1] 232\n",
      "[1] 233\n",
      "[1] 234\n",
      "[1] 235\n",
      "[1] 236\n",
      "[1] 237\n",
      "[1] 238\n",
      "[1] 239\n",
      "[1] 240\n",
      "[1] 241\n",
      "[1] 242\n",
      "[1] 243\n",
      "[1] 244\n",
      "[1] 245\n",
      "[1] 246\n",
      "[1] 247\n",
      "[1] 248\n",
      "[1] 249\n",
      "[1] 250\n",
      "[1] 251\n",
      "[1] 252\n",
      "[1] 253\n",
      "[1] 254\n",
      "[1] 255\n",
      "[1] 256\n",
      "[1] 257\n",
      "[1] 258\n",
      "[1] 259\n",
      "[1] 260\n",
      "[1] 261\n",
      "[1] 262\n",
      "[1] 263\n",
      "[1] 264\n",
      "[1] 265\n",
      "[1] 266\n",
      "[1] 267\n",
      "[1] 268\n",
      "[1] 269\n",
      "[1] 270\n",
      "[1] 271\n",
      "[1] 272\n",
      "[1] 273\n",
      "[1] 274\n",
      "[1] 275\n",
      "[1] 276\n",
      "[1] 277\n",
      "[1] 278\n",
      "[1] 279\n",
      "[1] 280\n",
      "[1] 281\n",
      "[1] 282\n",
      "[1] 283\n",
      "[1] 284\n",
      "[1] 285\n",
      "[1] 286\n",
      "[1] 287\n",
      "[1] 288\n",
      "[1] 289\n",
      "[1] 290\n",
      "[1] 291\n",
      "[1] 292\n",
      "[1] 293\n",
      "[1] 294\n",
      "[1] 295\n",
      "[1] 296\n",
      "[1] 297\n",
      "[1] 298\n",
      "[1] 299\n",
      "[1] \"Finished Forecasting\"\n",
      "Time difference of 17.26272 secs\n",
      "[1] \"Mean SMAPE: 0.300736049175528\"\n",
      "[1] \"Median SMAPE: 0.248283315056477\"\n",
      "[1] \"Mean mSMAPE: 0.300554754879655\"\n",
      "[1] \"Median mSMAPE: 0.248109733322668\"\n",
      "[1] \"Mean MASE: 1.21295642501829\"\n",
      "[1] \"Median MASE: 0.992226941725372\"\n",
      "[1] \"Mean MAE: 32.4618220057997\"\n",
      "[1] \"Median MAE: 23.289755336785\"\n",
      "[1] \"Mean RMSE: 38.5797417923773\"\n",
      "[1] \"Median RMSE: 29.3046483591993\"\n"
     ],
     "name": "stdout"
    },
    {
     "output_type": "execute_result",
     "data": {
      "text/plain": [
       "<rpy2.rinterface_lib.sexp.NULLType object at 0x7fd0a9c148c0> [RTYPES.NILSXP]"
      ]
     },
     "metadata": {},
     "execution_count": 17
    }
   ]
  },
  {
   "cell_type": "markdown",
   "metadata": {
    "id": "aZaCvCBXUC4t"
   },
   "source": [
    "Try the global model forecasts."
   ]
  },
  {
   "cell_type": "code",
   "metadata": {
    "colab": {
     "base_uri": "https://localhost:8080/"
    },
    "id": "lvvQ72kWUClH",
    "outputId": "8cd1420c-f9b1-408d-9733-2622ea63e08e"
   },
   "source": [
    "do_fixed_horizon_global_forecasting(\"sample\", 25, \"sample.tsf\", \"pooled_regression\", \"series_name\", \"start_timestamp\", 8)"
   ],
   "execution_count": 14,
   "outputs": [
    {
     "output_type": "stream",
     "text": [
      "[1] \"Started loading sample\"\n",
      "[1] \"started Forecasting\"\n",
      "[1] 1\n",
      "[1] 2\n",
      "[1] 3\n",
      "[1] 4\n",
      "[1] 5\n",
      "[1] 6\n",
      "[1] 7\n",
      "[1] 8\n",
      "[1] 9\n",
      "[1] 10\n",
      "[1] 11\n",
      "[1] 12\n",
      "[1] 13\n",
      "[1] 14\n",
      "[1] 15\n",
      "[1] 16\n",
      "[1] 17\n",
      "[1] 18\n",
      "[1] 19\n",
      "[1] 20\n",
      "[1] 21\n",
      "[1] 22\n",
      "[1] 23\n",
      "[1] 24\n",
      "[1] 25\n",
      "[1] 26\n",
      "[1] 27\n",
      "[1] 28\n",
      "[1] 29\n",
      "[1] 30\n",
      "[1] 31\n",
      "[1] 32\n",
      "[1] 33\n",
      "[1] 34\n",
      "[1] 35\n",
      "[1] 36\n",
      "[1] 37\n",
      "[1] 38\n",
      "[1] 39\n",
      "[1] 40\n",
      "[1] 41\n",
      "[1] 42\n",
      "[1] 43\n",
      "[1] 44\n",
      "[1] 45\n",
      "[1] 46\n",
      "[1] 47\n",
      "[1] 48\n",
      "[1] 49\n",
      "[1] 50\n",
      "[1] 51\n",
      "[1] 52\n",
      "[1] 53\n",
      "[1] 54\n",
      "[1] 55\n",
      "[1] 56\n",
      "[1] 57\n",
      "[1] 58\n",
      "[1] 59\n",
      "[1] 60\n",
      "[1] 61\n",
      "[1] 62\n",
      "[1] 63\n",
      "[1] 64\n",
      "[1] 65\n",
      "[1] 66\n",
      "[1] 67\n",
      "[1] 68\n",
      "[1] 69\n",
      "[1] 70\n",
      "[1] 71\n",
      "[1] 72\n",
      "[1] 73\n",
      "[1] 74\n",
      "[1] 75\n",
      "[1] 76\n",
      "[1] 77\n",
      "[1] 78\n",
      "[1] 79\n",
      "[1] 80\n",
      "[1] 81\n",
      "[1] 82\n",
      "[1] 83\n",
      "[1] 84\n",
      "[1] 85\n",
      "[1] 86\n",
      "[1] 87\n",
      "[1] 88\n",
      "[1] 89\n",
      "[1] 90\n",
      "[1] 91\n",
      "[1] 92\n",
      "[1] 93\n",
      "[1] 94\n",
      "[1] 95\n",
      "[1] 96\n",
      "[1] 97\n",
      "[1] 98\n",
      "[1] 99\n",
      "[1] 100\n",
      "[1] 101\n",
      "[1] 102\n",
      "[1] 103\n",
      "[1] 104\n",
      "[1] 105\n",
      "[1] 106\n",
      "[1] 107\n",
      "[1] 108\n",
      "[1] 109\n",
      "[1] 110\n",
      "[1] 111\n",
      "[1] 112\n",
      "[1] 113\n",
      "[1] 114\n",
      "[1] 115\n",
      "[1] 116\n",
      "[1] 117\n",
      "[1] 118\n",
      "[1] 119\n",
      "[1] 120\n",
      "[1] 121\n",
      "[1] 122\n",
      "[1] 123\n",
      "[1] 124\n",
      "[1] 125\n",
      "[1] 126\n",
      "[1] 127\n",
      "[1] 128\n",
      "[1] 129\n",
      "[1] 130\n",
      "[1] 131\n",
      "[1] 132\n",
      "[1] 133\n",
      "[1] 134\n",
      "[1] 135\n",
      "[1] 136\n",
      "[1] 137\n",
      "[1] 138\n",
      "[1] 139\n",
      "[1] 140\n",
      "[1] 141\n",
      "[1] 142\n",
      "[1] 143\n",
      "[1] 144\n",
      "[1] 145\n",
      "[1] 146\n",
      "[1] 147\n",
      "[1] 148\n",
      "[1] 149\n",
      "[1] 150\n",
      "[1] 151\n",
      "[1] 152\n",
      "[1] 153\n",
      "[1] 154\n",
      "[1] 155\n",
      "[1] 156\n",
      "[1] 157\n",
      "[1] 158\n",
      "[1] 159\n",
      "[1] 160\n",
      "[1] 161\n",
      "[1] 162\n",
      "[1] 163\n",
      "[1] 164\n",
      "[1] 165\n",
      "[1] 166\n",
      "[1] 167\n",
      "[1] 168\n",
      "[1] 169\n",
      "[1] 170\n",
      "[1] 171\n",
      "[1] 172\n",
      "[1] 173\n",
      "[1] 174\n",
      "[1] 175\n",
      "[1] 176\n",
      "[1] 177\n",
      "[1] 178\n",
      "[1] 179\n",
      "[1] 180\n",
      "[1] 181\n",
      "[1] 182\n",
      "[1] 183\n",
      "[1] 184\n",
      "[1] 185\n",
      "[1] 186\n",
      "[1] 187\n",
      "[1] 188\n",
      "[1] 189\n",
      "[1] 190\n",
      "[1] 191\n",
      "[1] 192\n",
      "[1] 193\n",
      "[1] 194\n",
      "[1] 195\n",
      "[1] 196\n",
      "[1] 197\n",
      "[1] 198\n",
      "[1] 199\n",
      "[1] 200\n",
      "[1] 201\n",
      "[1] 202\n",
      "[1] 203\n",
      "[1] 204\n",
      "[1] 205\n",
      "[1] 206\n",
      "[1] 207\n",
      "[1] 208\n",
      "[1] 209\n",
      "[1] 210\n",
      "[1] 211\n",
      "[1] 212\n",
      "[1] 213\n",
      "[1] 214\n",
      "[1] 215\n",
      "[1] 216\n",
      "[1] 217\n",
      "[1] 218\n",
      "[1] 219\n",
      "[1] 220\n",
      "[1] 221\n",
      "[1] 222\n",
      "[1] 223\n",
      "[1] 224\n",
      "[1] 225\n",
      "[1] 226\n",
      "[1] 227\n",
      "[1] 228\n",
      "[1] 229\n",
      "[1] 230\n",
      "[1] 231\n",
      "[1] 232\n",
      "[1] 233\n",
      "[1] 234\n",
      "[1] 235\n",
      "[1] 236\n",
      "[1] 237\n",
      "[1] 238\n",
      "[1] 239\n",
      "[1] 240\n",
      "[1] 241\n",
      "[1] 242\n",
      "[1] 243\n",
      "[1] 244\n",
      "[1] 245\n",
      "[1] 246\n",
      "[1] 247\n",
      "[1] 248\n",
      "[1] 249\n",
      "[1] 250\n",
      "[1] 251\n",
      "[1] 252\n",
      "[1] 253\n",
      "[1] 254\n",
      "[1] 255\n",
      "[1] 256\n",
      "[1] 257\n",
      "[1] 258\n",
      "[1] 259\n",
      "[1] 260\n",
      "[1] 261\n",
      "[1] 262\n",
      "[1] 263\n",
      "[1] 264\n",
      "[1] 265\n",
      "[1] 266\n",
      "[1] 267\n",
      "[1] 268\n",
      "[1] 269\n",
      "[1] 270\n",
      "[1] 271\n",
      "[1] 272\n",
      "[1] 273\n",
      "[1] 274\n",
      "[1] 275\n",
      "[1] 276\n",
      "[1] 277\n",
      "[1] 278\n",
      "[1] 279\n",
      "[1] 280\n",
      "[1] 281\n",
      "[1] 282\n",
      "[1] 283\n",
      "[1] 284\n",
      "[1] 285\n",
      "[1] 286\n",
      "[1] 287\n",
      "[1] 288\n",
      "[1] 289\n",
      "[1] 290\n",
      "[1] 291\n",
      "[1] 292\n",
      "[1] 293\n",
      "[1] 294\n",
      "[1] 295\n",
      "[1] 296\n",
      "[1] 297\n",
      "[1] 298\n",
      "[1] 299\n",
      "[1] \"Finished Forecasting\"\n",
      "Time difference of 8.235948 secs\n",
      "[1] \"Mean SMAPE: 0.314007589786681\"\n",
      "[1] \"Median SMAPE: 0.24753549300254\"\n",
      "[1] \"Mean mSMAPE: 0.313820519033168\"\n",
      "[1] \"Median mSMAPE: 0.24736412358207\"\n",
      "[1] \"Mean MASE: 1.26258764134676\"\n",
      "[1] \"Median MASE: 1.01889271566393\"\n",
      "[1] \"Mean MAE: 33.6894199908943\"\n",
      "[1] \"Median MAE: 24.2670712951275\"\n",
      "[1] \"Mean RMSE: 39.8429349206017\"\n",
      "[1] \"Median RMSE: 29.6699592470397\"\n"
     ],
     "name": "stdout"
    },
    {
     "output_type": "execute_result",
     "data": {
      "text/plain": [
       "<rpy2.rinterface_lib.sexp.NULLType object at 0x7f35b0dcc4b0> [RTYPES.NILSXP]"
      ]
     },
     "metadata": {},
     "execution_count": 14
    }
   ]
  }
 ]
}
